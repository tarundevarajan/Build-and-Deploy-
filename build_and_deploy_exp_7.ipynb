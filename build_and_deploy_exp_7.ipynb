{
  "cells": [
    {
      "cell_type": "code",
      "execution_count": null,
      "metadata": {
        "colab": {
          "background_save": true,
          "base_uri": "https://localhost:8080/",
          "height": 208
        },
        "id": "uNzqL_sgDotr",
        "outputId": "f919715e-f9bb-4faf-c592-73c2a5196095"
      },
      "outputs": [
        {
          "name": "stdout",
          "output_type": "stream",
          "text": [
            "--- Part 1: Loading and Preprocessing the MNIST Dataset ---\n",
            "Normalized training data shape: (60000, 28, 28, 1)\n",
            "Example of a normalized pixel value: -1.0\n",
            "\n",
            "--- Part 2: Building the GAN Components ---\n",
            "\n",
            "--- Generator Model Summary ---\n"
          ]
        },
        {
          "data": {
            "text/html": [
              "<pre style=\"white-space:pre;overflow-x:auto;line-height:normal;font-family:Menlo,'DejaVu Sans Mono',consolas,'Courier New',monospace\"></pre>\n"
            ],
            "text/plain": []
          },
          "metadata": {},
          "output_type": "display_data"
        },
        {
          "name": "stdout",
          "output_type": "stream",
          "text": [
            "\n",
            "--- Discriminator Model Summary ---\n"
          ]
        },
        {
          "data": {
            "text/html": [
              "<pre style=\"white-space:pre;overflow-x:auto;line-height:normal;font-family:Menlo,'DejaVu Sans Mono',consolas,'Courier New',monospace\"></pre>\n"
            ],
            "text/plain": []
          },
          "metadata": {},
          "output_type": "display_data"
        },
        {
          "name": "stdout",
          "output_type": "stream",
          "text": [
            "\n",
            "--- Beginning GAN Training ---\n",
            "Epoch 1/2 - Generator Loss: 0.7307, Discriminator Loss: 1.0874\n",
            "Epoch 2/2 - Generator Loss: 0.7997, Discriminator Loss: 1.2802\n",
            "\n",
            "--- Training complete. Generating final images. ---\n"
          ]
        },
        {
          "data": {
            "image/png": "[encoded data removed]",
            "text/plain": [
              "<Figure size 1000x1000 with 1 Axes>"
            ]
          },
          "metadata": {},
          "output_type": "display_data"
        }
      ],
      "source": [
        "import numpy as np\n",
        "import matplotlib.pyplot as plt\n",
        "import tensorflow as tf\n",
        "from tensorflow import keras\n",
        "from tensorflow.keras import layers\n",
        "from tensorflow.keras.datasets import mnist\n",
        "import os\n",
        "\n",
        "# Suppress TensorFlow warnings for cleaner output\n",
        "tf.keras.utils.disable_interactive_logging()\n",
        "\n",
        "# --- Part 1: Dataset Loading and Preprocessing ---\n",
        "\n",
        "print(\"--- Part 1: Loading and Preprocessing the MNIST Dataset ---\")\n",
        "\n",
        "# Load the MNIST dataset\n",
        "(x_train, _), (_, _) = mnist.load_data()\n",
        "\n",
        "# Reshape images to (28, 28, 1) and convert to float32\n",
        "x_train = x_train.reshape(x_train.shape[0], 28, 28, 1).astype('float32')\n",
        "\n",
        "# Normalize pixel values to [-1, 1]\n",
        "x_train = (x_train - 127.5) / 127.5\n",
        "\n",
        "print(f\"Normalized training data shape: {x_train.shape}\")\n",
        "print(\"Example of a normalized pixel value:\", x_train[0, 0, 0, 0])\n",
        "\n",
        "# --- Part 2: Building the Generator and Discriminator Models ---\n",
        "\n",
        "print(\"\\n--- Part 2: Building the GAN Components ---\")\n",
        "\n",
        "latent_dim = 100  # Size of the noise vector\n",
        "\n",
        "def build_generator():\n",
        "    model = keras.Sequential(name=\"generator\")\n",
        "    # Project and reshape\n",
        "    model.add(layers.Dense(7 * 7 * 256, use_bias=False, input_shape=(latent_dim,)))\n",
        "    model.add(layers.BatchNormalization())\n",
        "    model.add(layers.LeakyReLU())\n",
        "    model.add(layers.Reshape((7, 7, 256)))\n",
        "\n",
        "    # Upsample to 7x7 -> 14x14\n",
        "    model.add(layers.Conv2DTranspose(128, (5, 5), strides=(1, 1), padding='same', use_bias=False))\n",
        "    model.add(layers.BatchNormalization())\n",
        "    model.add(layers.LeakyReLU())\n",
        "\n",
        "    # Upsample to 14x14 -> 28x28\n",
        "    model.add(layers.Conv2DTranspose(64, (5, 5), strides=(2, 2), padding='same', use_bias=False))\n",
        "    model.add(layers.BatchNormalization())\n",
        "    model.add(layers.LeakyReLU())\n",
        "\n",
        "    # Final layer: output image with tanh activation (range [-1,1])\n",
        "    model.add(layers.Conv2DTranspose(1, (5, 5), strides=(2, 2), padding='same', use_bias=False, activation='tanh'))\n",
        "\n",
        "    return model\n",
        "\n",
        "generator = build_generator()\n",
        "print(\"\\n--- Generator Model Summary ---\")\n",
        "generator.summary()\n",
        "\n",
        "def build_discriminator():\n",
        "    model = keras.Sequential(name=\"discriminator\")\n",
        "    # Downsample\n",
        "    model.add(layers.Conv2D(64, (5, 5), strides=(2, 2), padding='same', input_shape=[28, 28, 1]))\n",
        "    model.add(layers.LeakyReLU())\n",
        "    model.add(layers.Dropout(0.3))\n",
        "\n",
        "    model.add(layers.Conv2D(128, (5, 5), strides=(2, 2), padding='same'))\n",
        "    model.add(layers.LeakyReLU())\n",
        "    model.add(layers.Dropout(0.3))\n",
        "\n",
        "    model.add(layers.Flatten())\n",
        "    model.add(layers.Dense(1, activation='sigmoid'))  # Real or fake output\n",
        "\n",
        "    return model\n",
        "\n",
        "discriminator = build_discriminator()\n",
        "print(\"\\n--- Discriminator Model Summary ---\")\n",
        "discriminator.summary()\n",
        "\n",
        "# --- Part 3: Loss Functions, Optimizers, and Training ---\n",
        "\n",
        "cross_entropy = keras.losses.BinaryCrossentropy(from_logits=False)\n",
        "\n",
        "def discriminator_loss(real_output, fake_output):\n",
        "    real_loss = cross_entropy(tf.ones_like(real_output), real_output)\n",
        "    fake_loss = cross_entropy(tf.zeros_like(fake_output), fake_output)\n",
        "    return real_loss + fake_loss\n",
        "\n",
        "def generator_loss(fake_output):\n",
        "    return cross_entropy(tf.ones_like(fake_output), fake_output)\n",
        "\n",
        "generator_optimizer = tf.keras.optimizers.Adam(learning_rate=1e-4)\n",
        "discriminator_optimizer = tf.keras.optimizers.Adam(learning_rate=1e-4)\n",
        "\n",
        "batch_size = 256\n",
        "\n",
        "@tf.function\n",
        "def train_step(images):\n",
        "    noise = tf.random.normal([batch_size, latent_dim])\n",
        "\n",
        "    with tf.GradientTape() as gen_tape, tf.GradientTape() as disc_tape:\n",
        "        generated_images = generator(noise, training=True)\n",
        "\n",
        "        real_output = discriminator(images, training=True)\n",
        "        fake_output = discriminator(generated_images, training=True)\n",
        "\n",
        "        gen_loss = generator_loss(fake_output)\n",
        "        disc_loss = discriminator_loss(real_output, fake_output)\n",
        "\n",
        "    gradients_of_generator = gen_tape.gradient(gen_loss, generator.trainable_variables)\n",
        "    gradients_of_discriminator = disc_tape.gradient(disc_loss, discriminator.trainable_variables)\n",
        "\n",
        "    generator_optimizer.apply_gradients(zip(gradients_of_generator, generator.trainable_variables))\n",
        "    discriminator_optimizer.apply_gradients(zip(gradients_of_discriminator, discriminator.trainable_variables))\n",
        "\n",
        "    return gen_loss, disc_loss\n",
        "\n",
        "def generate_and_save_images(model, epoch, test_input):\n",
        "    predictions = model(test_input, training=False)\n",
        "    predictions_rescaled = (predictions * 0.5) + 0.5  # Scale back to [0,1]\n",
        "\n",
        "    fig = plt.figure(figsize=(10, 10))\n",
        "    for i in range(predictions.shape[0]):\n",
        "        plt.subplot(4, 4, i + 1)\n",
        "        plt.imshow(predictions_rescaled[i, :, :, 0], cmap='gray')\n",
        "        plt.axis('off')\n",
        "\n",
        "    plt.suptitle(f\"Epoch {epoch}\", fontsize=16)\n",
        "\n",
        "    if not os.path.exists('images'):\n",
        "        os.makedirs('images')\n",
        "    plt.savefig(f'images/image_at_epoch_{epoch:04d}.png')\n",
        "    plt.show()\n",
        "\n",
        "EPOCHS = 2\n",
        "num_examples_to_generate = 1\n",
        "seed = tf.random.normal([num_examples_to_generate, latent_dim])\n",
        "\n",
        "# Prepare dataset\n",
        "train_dataset = tf.data.Dataset.from_tensor_slices(x_train).shuffle(x_train.shape[0]).batch(batch_size)\n",
        "\n",
        "def train(dataset, epochs):\n",
        "    print(\"\\n--- Beginning GAN Training ---\")\n",
        "    for epoch in range(epochs):\n",
        "        gen_loss_list = []\n",
        "        disc_loss_list = []\n",
        "\n",
        "        for image_batch in dataset:\n",
        "            gen_loss, disc_loss = train_step(image_batch)\n",
        "            gen_loss_list.append(gen_loss.numpy())\n",
        "            disc_loss_list.append(disc_loss.numpy())\n",
        "\n",
        "        avg_gen_loss = np.mean(gen_loss_list)\n",
        "        avg_disc_loss = np.mean(disc_loss_list)\n",
        "\n",
        "        print(f\"Epoch {epoch + 1}/{epochs} - \"\n",
        "              f\"Generator Loss: {avg_gen_loss:.4f}, \"\n",
        "              f\"Discriminator Loss: {avg_disc_loss:.4f}\")\n",
        "\n",
        "        if (epoch + 1) % 20 == 0:\n",
        "            generate_and_save_images(generator, epoch + 1, seed)\n",
        "\n",
        "    print(\"\\n--- Training complete. Generating final images. ---\")\n",
        "    generate_and_save_images(generator, epochs, seed)\n",
        "\n",
        "# Run training\n",
        "train(train_dataset, EPOCHS)\n"
      ]
    },
    {
      "cell_type": "code",
      "source": [],
      "metadata": {
        "id": "M5zOjezUQj7d"
      },
      "execution_count": null,
      "outputs": []
    }
  ],
  "metadata": {
    "colab": {
      "provenance": []
    },
    "kernelspec": {
      "display_name": "Python 3",
      "name": "python3"
    },
    "language_info": {
      "name": "python"
    }
  },
  "nbformat": 4,
  "nbformat_minor": 0
}